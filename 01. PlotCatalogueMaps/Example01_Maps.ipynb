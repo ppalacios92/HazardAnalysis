{
 "cells": [
  {
   "cell_type": "markdown",
   "metadata": {},
   "source": [
    "## Toolkit to plot seismic catalogue in world maps\n",
    "\n",
    "Created on: July, 2023\n",
    "\n",
    "Author: Patricio Palacios B.\n",
    "\n",
    "MSc, Seismic Hazard Analyst, Structural Civil Engineer\n",
    "\n",
    "GitHub link: https://github.com/ppalacios92\n"
   ]
  },
  {
   "cell_type": "code",
   "execution_count": null,
   "metadata": {},
   "outputs": [],
   "source": [
    "import pandas as pd\n",
    "import matplotlib.pyplot as plt\n",
    "from mpl_toolkits.basemap import Basemap\n",
    "\n",
    "# Catalogue in Openquake format path (Use '\\\\' to separate folders in the directory)\n",
    "data = pd.read_csv(' ')\n",
    "\n",
    "# Filter earthquakes with magnitude greater than 6\n",
    "filtered_data = data[data['magnitude'] > 6.0]\n",
    "\n",
    "# Extract the columns of latitude, longitude, and magnitude.\n",
    "latitudes = filtered_data['latitude']\n",
    "longitudes = filtered_data['longitude']\n",
    "magnitudes = filtered_data['magnitude']\n",
    "\n",
    "# Define the limits of the axes\n",
    "lat_axis_min, lat_axis_max = -7, 4\n",
    "lon_axis_min, lon_axis_max = -84, -74\n",
    "\n",
    "# Create a figure and a map object.\n",
    "fig = plt.figure(figsize=(10, 6))\n",
    "m = Basemap(projection='merc', llcrnrlat=lat_axis_min, urcrnrlat=lat_axis_max,\n",
    "            llcrnrlon=lon_axis_min, urcrnrlon=lon_axis_max, resolution='l')\n",
    "\n",
    "# Plot the points on the map, with color based on the magnitude\n",
    "x, y = m(longitudes, latitudes)\n",
    "sc = m.scatter(x, y, c=magnitudes, cmap=plt.cm.get_cmap('Spectral_r'), marker='o', alpha=1)\n",
    "\n",
    "# Add a color bar for the magnitude\n",
    "plt.colorbar(sc, label='Magnitude')\n",
    "\n",
    "# Add map details\n",
    "m.drawcoastlines()\n",
    "m.drawcountries()\n",
    "m.fillcontinents(color='lightgray', zorder=0)\n",
    "\n",
    "# Add latitude and longitude axes\n",
    "parallels = range(lat_axis_min, lat_axis_max+1, 2)\n",
    "m.drawparallels(parallels, labels=[1, 0, 0, 0], fontsize=8, linewidth=0.5, color='gray')\n",
    "meridians = range(lon_axis_min, lon_axis_max+1, 2)\n",
    "m.drawmeridians(meridians, labels=[0, 0, 0, 1], fontsize=8, linewidth=0.5, color='gray')\n",
    "\n",
    "# Set axis labels and plot title\n",
    "plt.xlabel('Longitude')\n",
    "plt.ylabel('Latitude')\n",
    "plt.title('Seismic events distribution (Magnitude > 6.0)')\n",
    "\n",
    "# Show map\n",
    "plt.show()"
   ]
  }
 ],
 "metadata": {
  "kernelspec": {
   "display_name": "Python 3",
   "language": "python",
   "name": "python3"
  },
  "language_info": {
   "codemirror_mode": {
    "name": "ipython",
    "version": 3
   },
   "file_extension": ".py",
   "mimetype": "text/x-python",
   "name": "python",
   "nbconvert_exporter": "python",
   "pygments_lexer": "ipython3",
   "version": "3.10.0"
  },
  "orig_nbformat": 4
 },
 "nbformat": 4,
 "nbformat_minor": 2
}
